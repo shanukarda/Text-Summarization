{
 "cells": [
  {
   "cell_type": "code",
   "execution_count": 1,
   "metadata": {},
   "outputs": [
    {
     "name": "stderr",
     "output_type": "stream",
     "text": [
      "[nltk_data] Downloading package stopwords to\n",
      "[nltk_data]     C:\\Users\\Shanu\\AppData\\Roaming\\nltk_data...\n",
      "[nltk_data]   Package stopwords is already up-to-date!\n"
     ]
    }
   ],
   "source": [
    "# importing libraries\n",
    "from bs4 import BeautifulSoup as bs\n",
    "import urllib.request\n",
    "import re\n",
    "import nltk\n",
    "nltk.download(\"stopwords\")\n",
    "import heapq"
   ]
  },
  {
   "cell_type": "code",
   "execution_count": 2,
   "metadata": {},
   "outputs": [],
   "source": [
    "# Gethering data from wikipedia\n",
    "source = urllib.request.urlopen(\"https://en.wikipedia.org/wiki/Global_warming\").read()\n",
    "soup = bs(source,\"xml\")"
   ]
  },
  {
   "cell_type": "code",
   "execution_count": 3,
   "metadata": {},
   "outputs": [],
   "source": [
    "# collecting all text on one place\n",
    "text = \"\"\n",
    "for paragraph in soup.find_all(\"p\"):\n",
    "    text += paragraph.text"
   ]
  },
  {
   "cell_type": "code",
   "execution_count": 4,
   "metadata": {},
   "outputs": [],
   "source": [
    "# preprocessing the text\n",
    "text = re.sub(r\"\\[[0-9]*\\]\",\" \",text)\n",
    "text = re.sub(r\"\\s+\",\" \",text)\n",
    "clean_txt = text.lower()\n",
    "clean_txt = re.sub(r\"\\W\",\" \",clean_txt)\n",
    "clean_txt = re.sub(r\"\\d\",\" \",clean_txt)\n",
    "clean_txt = re.sub(r\"\\s+\",\" \",clean_txt)\n",
    "\n",
    "# Tokenize sentences\n",
    "sentnces = nltk.sent_tokenize(text)\n",
    "\n",
    "# Stopword list\n",
    "stop_words = nltk.corpus.stopwords.words(\"english\")\n"
   ]
  },
  {
   "cell_type": "code",
   "execution_count": 5,
   "metadata": {},
   "outputs": [],
   "source": [
    "# creating words with count\n",
    "word2count = {}\n",
    "for word in nltk.word_tokenize(clean_txt):\n",
    "    if word not in word2count.keys():\n",
    "        word2count[word] = 1\n",
    "    else:\n",
    "        word2count[word] += 1\n",
    "\n",
    "        \n",
    "for key in word2count.keys():\n",
    "    word2count[key] = word2count[key]/max(word2count.values())\n"
   ]
  },
  {
   "cell_type": "code",
   "execution_count": 6,
   "metadata": {},
   "outputs": [],
   "source": [
    "# creating a dictionary of sentances with scores\n",
    "sent2score = {}\n",
    "for sentnc in sentnces:\n",
    "    for word in nltk.word_tokenize(sentnc.lower()):\n",
    "        if word in word2count.keys():\n",
    "            if len(sentnc.split(\" \")) < 30 :\n",
    "                if sentnc not in sent2score.keys():\n",
    "                    sent2score[sentnc] = word2count[word]\n",
    "                else:\n",
    "                    sent2score[sentnc] += word2count[word]"
   ]
  },
  {
   "cell_type": "code",
   "execution_count": 7,
   "metadata": {},
   "outputs": [
    {
     "name": "stdout",
     "output_type": "stream",
     "text": [
      "                                             \u001b[1m *** HERE ARE THE BEST 10 LINES *** \u001b[0;0m\n",
      "*******************************************************************************************************************************\n",
      "1. Climate change can be mitigated through the reduction of greenhouse gas emissions or the enhancement of the capacity of carbon sinks to absorb greenhouse gases from the atmosphere.\n",
      "\n",
      "2. The impact of climate change on crop productivity for the four major crops was negative for wheat and maize, and neutral for soy and rice, in the years 1960–2013.\n",
      "\n",
      "3. As of November 2019[update], 194 states and the European Union have signed the treaty and 186 states and the EU have ratified or acceded to the agreement.\n",
      "\n",
      "4. By comparing these fingerprints with observed patterns and evolution of climate change, and the observed evolution of the forcings, the causes of the observed changes can be determined.\n",
      "\n",
      "5. Protests in favour of more ambitious climate action have increased in the 2010s in the form of fossil fuel divestment, worldwide demonstrations, and a school strike for climate.\n",
      "\n",
      "6. Emission scenarios can be combined with modelling of the carbon cycle to predict how atmospheric concentrations of greenhouse gases might change in the future.\n",
      "\n",
      "7. As more CO2 and heat are absorbed by the ocean, it is acidifying and ocean circulation can change, changing the rate at which the ocean can absorb atmospheric carbon.\n",
      "\n",
      "8. His 1861 paper proposed changing concentrations of these gases could have caused \"all the mutations of climate which the researches of geologists reveal\" and would explain ice age changes.\n",
      "\n",
      "9. If solar variations were responsible for the observed warming, warming of both the troposphere and the stratosphere would be expected, but that has not been the case.\n",
      "\n",
      "10. In the tropics the net effect is to produce a significant warming, while at latitudes closer to the poles a loss of albedo leads to an overall cooling effect.\n",
      "\n",
      "*******************************************************************************************************************************\n"
     ]
    }
   ],
   "source": [
    "# Gettings best 5 lines             \n",
    "best_sentences = heapq.nlargest(10, sent2score, key=sent2score.get)\n",
    "\n",
    "print(\" \"*45+\"\\033[1m *** HERE ARE THE BEST 10 LINES *** \\033[0;0m\")\n",
    "print('*'*127)\n",
    "c = 1\n",
    "for sentence in best_sentences:\n",
    "    print(str(c)+\". \"+sentence,end = \"\\n\\n\")\n",
    "    c+=1\n",
    "print('*'*127)"
   ]
  }
 ],
 "metadata": {
  "kernelspec": {
   "display_name": "Python 3",
   "language": "python",
   "name": "python3"
  },
  "language_info": {
   "codemirror_mode": {
    "name": "ipython",
    "version": 3
   },
   "file_extension": ".py",
   "mimetype": "text/x-python",
   "name": "python",
   "nbconvert_exporter": "python",
   "pygments_lexer": "ipython3",
   "version": "3.7.3"
  }
 },
 "nbformat": 4,
 "nbformat_minor": 2
}
